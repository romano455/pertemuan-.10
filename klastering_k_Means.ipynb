{
  "nbformat": 4,
  "nbformat_minor": 0,
  "metadata": {
    "colab": {
      "name": "klastering k-Means.ipynb",
      "provenance": []
    },
    "kernelspec": {
      "name": "python3",
      "display_name": "Python 3"
    },
    "language_info": {
      "name": "python"
    }
  },
  "cells": [
    {
      "cell_type": "code",
      "metadata": {
        "id": "1rz9C34MXoTS"
      },
      "source": [
        "from sklearn import  datasets\n",
        "from sklearn.cluster import KMeans\n",
        "from sklearn.preprocessing import StandardScaler\n",
        "from scipy.spatial.distance import cdist\n",
        "import matplotlib.pyplot as plt"
      ],
      "execution_count": null,
      "outputs": []
    },
    {
      "cell_type": "code",
      "metadata": {
        "id": "9gXl6Tsyb22R"
      },
      "source": [
        "iris = datasets.load_iris()\n",
        "features = iris.data\n",
        "plt.scatter(features[:,0], features[:,1])\n",
        "plt.show"
      ],
      "execution_count": null,
      "outputs": []
    },
    {
      "cell_type": "code",
      "metadata": {
        "id": "mrfwRpCfcJKX"
      },
      "source": [
        "scaler = standardScaler()\n",
        "features_standardized = scaler.fit_transfrom(features)\n"
      ],
      "execution_count": null,
      "outputs": []
    },
    {
      "cell_type": "code",
      "metadata": {
        "id": "_AGXtQEGcaEr"
      },
      "source": [
        "from sklearn.metrics import silhouette_samples, silhouette_score\n",
        "wcss[]\n",
        "for i in range(1, 11):\n",
        "  kmeans = kmeans(n_cluster=i, inits='k-means++',\n",
        "                  max_iter=300, n_init=10, random_state=0)\n",
        "              kmeans.fit(features)\n",
        "              wcss.append(kmeans.inertia_)\n",
        "  plt.plot(range(1, 11),wcss)\n",
        "  plt.title('Elbow Method')\n",
        "  plt.xlebel('Number of clusters')\n",
        "  plt.ylabel('wcss')\n",
        "  plt.show()"
      ],
      "execution_count": null,
      "outputs": []
    },
    {
      "cell_type": "code",
      "metadata": {
        "id": "-CCVhzo7muNs"
      },
      "source": [
        "kmeans = KMeans(n_clusters=4, init='k-means++',\n",
        "                max_iter=300, n_init-10, random_state=0)\n",
        "pred_y = kmeans.fit_predict(features)\n",
        "plt.scetter(features[:,0],featrues[:,1])\n",
        "plt.scetter(kmeans.n_clusters_centers_[:,0],\n",
        "            kmeans.n_clusters_centers__[:,1],s=300,c='red')\n",
        "plt.show()"
      ],
      "execution_count": null,
      "outputs": []
    }
  ]
}