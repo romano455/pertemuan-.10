{
  "nbformat": 4,
  "nbformat_minor": 0,
  "metadata": {
    "colab": {
      "name": "Klastering K-Means dengan konsumen.CSV.ipynb",
      "provenance": []
    },
    "kernelspec": {
      "name": "python3",
      "display_name": "Python 3"
    },
    "language_info": {
      "name": "python"
    }
  },
  "cells": [
    {
      "cell_type": "code",
      "metadata": {
        "id": "EyZ7eQNJdBWG"
      },
      "source": [
        "import matplotlib.pyplot as plt\n",
        "import numpy as np\n",
        "import pandas as pd \n",
        "from sklearn.cluster import KMeans"
      ],
      "execution_count": null,
      "outputs": []
    },
    {
      "cell_type": "code",
      "metadata": {
        "id": "74DQMHCNjwVm"
      },
      "source": [
        "dataset = pd.read_csv('konsumen.csv')\n",
        "datset.keys()"
      ],
      "execution_count": null,
      "outputs": []
    },
    {
      "cell_type": "code",
      "metadata": {
        "id": "nIzAiXQLkQpD"
      },
      "source": [
        "dataku = pd.DataFrame(dataset)\n",
        "datasethead()\n"
      ],
      "execution_count": null,
      "outputs": []
    },
    {
      "cell_type": "code",
      "metadata": {
        "id": "U5nPLWlPki_g"
      },
      "source": [
        "x = np.asarry(dataset)\n",
        "print(x)"
      ],
      "execution_count": null,
      "outputs": []
    },
    {
      "cell_type": "code",
      "metadata": {
        "id": "40fAmPD15mvT"
      },
      "source": [
        "plt.scatter(x[:,0], x[:,1], label='True Position')\n",
        "plt.xlabel(\"gaji\")\n",
        "plt.xlabel(\"Pengeluaran\")\n",
        "plt.title(\"Gerfik Pembayaran Data Konsumen\")\n",
        "plt.show()\n"
      ],
      "execution_count": null,
      "outputs": []
    },
    {
      "cell_type": "code",
      "metadata": {
        "id": "D7dprP0U6hEW"
      },
      "source": [
        "kmeans = KMeans(n_clusters=2)\n",
        "kmeans.fit(x)"
      ],
      "execution_count": null,
      "outputs": []
    },
    {
      "cell_type": "code",
      "metadata": {
        "id": "hTQ-e7ez6ty-"
      },
      "source": [
        "print(kmeans.cluster_centr_)"
      ],
      "execution_count": null,
      "outputs": []
    },
    {
      "cell_type": "code",
      "metadata": {
        "id": "09I4sBbw67Ts"
      },
      "source": [
        "plt.scatter(x[:,0],x[:,1], c=kmeans.labels_,cmap=\"rainbow\")\n",
        "plt.sactter(kmeans.cluster_centr_[:,0], kmeans.cluster_centers_[;,1], color='black')\n",
        "plt.label('Gaji')\n",
        "plt.xlabel(\"Pengeluaran\")\n",
        "plt.title(\"Gerfik Pembayaran Data Konsumen\")\n",
        "plt.show()"
      ],
      "execution_count": null,
      "outputs": []
    },
    {
      "cell_type": "code",
      "metadata": {
        "id": "ZDT58onq8PxD"
      },
      "source": [
        ""
      ],
      "execution_count": null,
      "outputs": []
    }
  ]
}