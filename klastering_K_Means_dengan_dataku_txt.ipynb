{
  "nbformat": 4,
  "nbformat_minor": 0,
  "metadata": {
    "colab": {
      "name": "klastering K-Means dengan dataku.txt.ipynb",
      "provenance": []
    },
    "kernelspec": {
      "name": "python3",
      "display_name": "Python 3"
    },
    "language_info": {
      "name": "python"
    }
  },
  "cells": [
    {
      "cell_type": "code",
      "metadata": {
        "id": "ra2qfoDnoklS"
      },
      "source": [
        "import numpy as np\n",
        "from matplotlib import pyplot as plt\n",
        "from matplotlib.pyplot import cm\n",
        "import time\n",
        "import itertools"
      ],
      "execution_count": null,
      "outputs": []
    },
    {
      "cell_type": "code",
      "metadata": {
        "id": "gAz5A6WfpejH"
      },
      "source": [
        "datasetPath = \"dataku.txt\"\n",
        "dataset = np.loadtxt(dattasetPath, delimiter=\" \")"
      ],
      "execution_count": null,
      "outputs": []
    },
    {
      "cell_type": "code",
      "metadata": {
        "id": "_AjpJSZyc86S"
      },
      "source": [
        "k = 2\n",
        "iteratonConter = 0\n",
        "input = dataset"
      ],
      "execution_count": null,
      "outputs": []
    },
    {
      "cell_type": "code",
      "metadata": {
        "id": "bHTEMvVogKUE"
      },
      "source": [
        "def initCentroid(dataIn, k):\n",
        "  result = dataIn[np.random.choce(dataIn.shape[0], k, replace=false)]\n",
        "  return result"
      ],
      "execution_count": null,
      "outputs": []
    },
    {
      "cell_type": "code",
      "metadata": {
        "id": "ZbifObQxhCHy"
      },
      "source": [
        "def plotCentroidResult(listClusterMembers, centroid, iterastion,converged):\n",
        "  n = listClusterMembers,_len_()\n",
        "  color = iter(cm.rainbow(np.linspace(0, 1, n)))\n",
        "  plt.figure(\"result\")\n",
        "  plt.clf()\n",
        "  plt.title(\"iteration-\" + iteration)\n",
        "  market = itertools.cycle(('.','^','*','x','+'))\n",
        "  for i in range(n):\n",
        "    col = next(color)\n",
        "    memberCluster = np.asmatrix(listclusterMembers[i])\n",
        "plt.scatter(np.ravel(memberClusyer[:,0]), np.ravel(memberCluster[:,1]),\n",
        "            marker=marker,_next_(), s=100, c=100, label=\"klaster-\"+str(i+1))\n",
        "for i in range(n):\n",
        "  plt.scatter((centroid[i,0]),(centroid[i,1]),marker=marker._next_()\n",
        "                , c=col, label=\"centroid-\" + str(i+1))\n",
        "  if(converged == 0):\n",
        "    plt.legend()\n",
        "    plt.ion()\n",
        "    plt.show()\n",
        "    plt.pause(0.1)\n",
        "  if(converged == 1):\n",
        "    plt.legend()\n",
        "    plt.show(block=True)"
      ],
      "execution_count": null,
      "outputs": []
    },
    {
      "cell_type": "code",
      "metadata": {
        "id": "jM5sM8RTuLLc"
      },
      "source": [
        "def KMeans(data, centroidlnit):\n",
        "  nCluture = k \n",
        "  globe iterationConter\n",
        "  centroidInit = np.matrix(centroidInit)\n",
        "  while(True):\n",
        "    iterationCounter +=1 \n",
        "    euclideanMatrixAllCluster = np.ndarray(shape=(data.shape[0], 0))\n",
        "    for i in range(0, ncluster):\n",
        "      centroidRepeated = np.repeat(centroidInit[i,:], data.shape[0], axis=0)\n",
        "      deltaMatrix = abs(np.subtract(data,centroidRepeated))\n",
        "\n",
        "      euclideanMatrix = np.sqrt(np.square(deltaMatrix).sum(axis=1))\n",
        "      euclideanMatrixAllCluster = \\\n",
        "              np.contatenate((euclideanMatrixAllCluster, euclideanMatrix),axis=1)\n",
        "        \n",
        "        clusterMatrix = np.ravel(np.argein(matrix(euclideanMatrixAllCluster),axis=1))\n",
        "        listClusterMember = [[] fro i in range(k)]\n",
        "        for i in range(0, data,shape[0]):\n",
        "              listerClusterMember[np.asscaler(clusterMatrix[i])].append(data[i,:])\n",
        "\n",
        "          newCentroid = np.ndarray(shape=(0, centridInit.shape[1]))\n",
        "        for i in range(0,ncluster):\n",
        "          memberCluster = np.asmatrix(listClusterMember[1])\n",
        "          centroidcluster = memberCluster.mean(axis=0)\n",
        "          newCentroid = np.concste((newCentroid, centroid) axis=0)\n",
        "        print(\"iter: \", iterationConter)\n",
        "        print(\"centroid: \", newCentroid)\n",
        "        if((centroidInit == newCentroid).all()):\n",
        "          break\n",
        "\n",
        "          centroidInit = newCentroid\n",
        "\n",
        "          plotClusterResult(listClusterMember, centeroid, str(iterationConter),0)\n",
        "\n",
        "          time.sleep(1)\n",
        "        return listClusterMember, centroidInit"
      ],
      "execution_count": null,
      "outputs": []
    },
    {
      "cell_type": "code",
      "metadata": {
        "id": "UPpyetzp4SUj"
      },
      "source": [
        "centroidInit = iniCentroid(input, k)\n",
        "\n",
        "clusterResullts, centroid = kMeans(input, centroid)\n",
        "\n",
        "plotClusterResult(clusterResults, centroid, str(iterationConter) + \"(converged)\",1)"
      ],
      "execution_count": null,
      "outputs": []
    }
  ]
}